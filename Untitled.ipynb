{
 "cells": [
  {
   "cell_type": "code",
   "execution_count": 2,
   "metadata": {},
   "outputs": [],
   "source": [
    "import re"
   ]
  },
  {
   "cell_type": "code",
   "execution_count": 3,
   "metadata": {},
   "outputs": [],
   "source": [
    "text = \"That person wears marvelos trousers\"\n"
   ]
  },
  {
   "cell_type": "code",
   "execution_count": 4,
   "metadata": {},
   "outputs": [
    {
     "data": {
      "text/plain": [
       "['a', 'a', 'a']"
      ]
     },
     "execution_count": 4,
     "metadata": {},
     "output_type": "execute_result"
    }
   ],
   "source": [
    "pattern = \"a\"\n",
    "re.findall(pattern,text)"
   ]
  },
  {
   "cell_type": "code",
   "execution_count": 5,
   "metadata": {},
   "outputs": [
    {
     "data": {
      "text/plain": [
       "['er', 'er']"
      ]
     },
     "execution_count": 5,
     "metadata": {},
     "output_type": "execute_result"
    }
   ],
   "source": [
    "pattern = \"er\"\n",
    "re.findall(pattern,text)"
   ]
  },
  {
   "cell_type": "code",
   "execution_count": 6,
   "metadata": {},
   "outputs": [
    {
     "data": {
      "text/plain": [
       "['e', 'r', 'e', 'r', 'r', 'e', 'r', 'e', 'r']"
      ]
     },
     "execution_count": 6,
     "metadata": {},
     "output_type": "execute_result"
    }
   ],
   "source": [
    "pattern = \"[er]\"\n",
    "re.findall(pattern,text)"
   ]
  },
  {
   "cell_type": "code",
   "execution_count": null,
   "metadata": {},
   "outputs": [],
   "source": []
  },
  {
   "cell_type": "code",
   "execution_count": 8,
   "metadata": {},
   "outputs": [],
   "source": [
    "text = \"Is it spelled gray or grey\"\n",
    "\n"
   ]
  },
  {
   "cell_type": "code",
   "execution_count": 9,
   "metadata": {},
   "outputs": [
    {
     "data": {
      "text/plain": [
       "['gray', 'grey']"
      ]
     },
     "execution_count": 9,
     "metadata": {},
     "output_type": "execute_result"
    }
   ],
   "source": [
    "pattern = \"gr[ae]y\"\n",
    "re.findall(pattern,text)"
   ]
  },
  {
   "cell_type": "code",
   "execution_count": 12,
   "metadata": {},
   "outputs": [
    {
     "name": "stdout",
     "output_type": "stream",
     "text": [
      "['I', 's', ' ', 'i', 't', ' ', 's', 'p', 'e', 'l', 'l', 'e', 'd', ' ', 'g', 'r', 'a', 'y', ' ', 'o', 'r', ' ', 'g', 'r', 'e', 'y']\n"
     ]
    }
   ],
   "source": [
    "pattern = \".\"\n",
    "print(re.findall(pattern,text))"
   ]
  },
  {
   "cell_type": "code",
   "execution_count": 13,
   "metadata": {},
   "outputs": [
    {
     "name": "stdout",
     "output_type": "stream",
     "text": [
      "['I', 's', ' ', 't', ' ', 's', 'p', ' ', 'r', 'y', ' ', 'o', 'r', ' ', 'r', 'y']\n"
     ]
    }
   ],
   "source": [
    "pattern = \"[^a-m]\"\n",
    "print(re.findall(pattern,text))"
   ]
  },
  {
   "cell_type": "code",
   "execution_count": 14,
   "metadata": {},
   "outputs": [],
   "source": [
    "text = \"My boss asked me to turn in my TPS reports\""
   ]
  },
  {
   "cell_type": "code",
   "execution_count": 15,
   "metadata": {},
   "outputs": [
    {
     "name": "stdout",
     "output_type": "stream",
     "text": [
      "['My boss']\n"
     ]
    }
   ],
   "source": [
    "pattern = \"^My boss\"\n",
    "print(re.findall(pattern,text))"
   ]
  },
  {
   "cell_type": "code",
   "execution_count": 18,
   "metadata": {},
   "outputs": [
    {
     "name": "stdout",
     "output_type": "stream",
     "text": [
      "['reports']\n"
     ]
    }
   ],
   "source": [
    "pattern = \"reports$\"\n",
    "print(re.findall(pattern,text))"
   ]
  },
  {
   "cell_type": "code",
   "execution_count": 20,
   "metadata": {},
   "outputs": [
    {
     "name": "stdout",
     "output_type": "stream",
     "text": [
      "['boss', 'TPS']\n"
     ]
    }
   ],
   "source": [
    "pattern = \"boss|TPS\"\n",
    "print(re.findall(pattern,text))"
   ]
  },
  {
   "cell_type": "code",
   "execution_count": 22,
   "metadata": {},
   "outputs": [],
   "source": [
    "text = \"spelling color or colour\"\n"
   ]
  },
  {
   "cell_type": "code",
   "execution_count": 23,
   "metadata": {},
   "outputs": [
    {
     "name": "stdout",
     "output_type": "stream",
     "text": [
      "['color', 'colour']\n"
     ]
    }
   ],
   "source": [
    "pattern = \"colou?r\"\n",
    "print(re.findall(pattern,text))"
   ]
  },
  {
   "cell_type": "code",
   "execution_count": 28,
   "metadata": {},
   "outputs": [
    {
     "name": "stdout",
     "output_type": "stream",
     "text": [
      "['aww', 'aww', 'aww', 'aww']\n"
     ]
    }
   ],
   "source": [
    "text =\"Let's se how we can match the following: aw, aww, awww, awwww, awwwww\"\n",
    "pattern = \"aw{2}\"\n",
    "print(re.findall(pattern,text))"
   ]
  },
  {
   "cell_type": "code",
   "execution_count": 29,
   "metadata": {},
   "outputs": [
    {
     "name": "stdout",
     "output_type": "stream",
     "text": [
      "['aww', 'awww', 'awwww', 'awwwww']\n"
     ]
    }
   ],
   "source": [
    "pattern = \"aw{2,}\"\n",
    "print(re.findall(pattern,text))"
   ]
  },
  {
   "cell_type": "code",
   "execution_count": 30,
   "metadata": {},
   "outputs": [
    {
     "name": "stdout",
     "output_type": "stream",
     "text": [
      "['aww', 'awww', 'awww', 'awww']\n"
     ]
    }
   ],
   "source": [
    "pattern = \"aw{2,3}\"\n",
    "print(re.findall(pattern,text))"
   ]
  },
  {
   "cell_type": "code",
   "execution_count": 33,
   "metadata": {},
   "outputs": [
    {
     "name": "stdout",
     "output_type": "stream",
     "text": [
      "['T', 'h', 's', ' ', 'i', 's', ' ', 'g', 'o', 'i', 'n', 'd', ' ', 't', 'o', '_', 'b', 'e', ' ', 'a', ' ', 'w', 'e', 'i', 'r', 'd', ' ', 's', 'e', 'n', 't', 'e', 'n', 'c', 'e', ' ', 'w', 'i', 't', 'h', ' ', '@', ' ', 'b', 'u', 'n', 'c', 'h', '-', 'o', 'f', '-', '$', 't', 'u', 'f', 'f', ' ', 'i', 'n', ' ', 'i', 't', ' ', '<']\n"
     ]
    }
   ],
   "source": [
    "text = \"Th1s is goind to_be a weird sentence with @ bunch-of-$tuff in it <3\"\n",
    "pattern = \"\\D\"\n",
    "print(re.findall(pattern,text))"
   ]
  },
  {
   "cell_type": "code",
   "execution_count": 34,
   "metadata": {},
   "outputs": [
    {
     "name": "stdout",
     "output_type": "stream",
     "text": [
      "['Th1s', 'is', 'goind', 'to_be', 'a', 'weird', 'sentence', 'with', 'bunch', 'of', 'tuff', 'in', 'it', '3']\n"
     ]
    }
   ],
   "source": [
    "text = \"Th1s is goind to_be a weird sentence with @ bunch-of-$tuff in it <3\"\n",
    "pattern = \"\\w+\"\n",
    "print(re.findall(pattern,text))"
   ]
  },
  {
   "cell_type": "code",
   "execution_count": 35,
   "metadata": {},
   "outputs": [
    {
     "name": "stdout",
     "output_type": "stream",
     "text": [
      "['Th1s', 'goind', 'to_be', 'weird', 'sentence', 'with', 'bunch', 'tuff']\n"
     ]
    }
   ],
   "source": [
    "\n",
    "pattern = \"\\w{4,}\"\n",
    "print(re.findall(pattern,text))"
   ]
  },
  {
   "cell_type": "code",
   "execution_count": null,
   "metadata": {},
   "outputs": [],
   "source": [
    "text = \"\"\"\n",
    "Aeromexico 800-237-66"
   ]
  },
  {
   "cell_type": "code",
   "execution_count": 36,
   "metadata": {},
   "outputs": [
    {
     "name": "stdout",
     "output_type": "stream",
     "text": [
      "['cat', 'ct', 'cat', 'ct', 'ct']\n"
     ]
    }
   ],
   "source": [
    "text = \"The complicit cat interacted with the other cats exactly as we expected.\"\n",
    "\n",
    "pattern = \"ca*t\"\n",
    "print(re.findall(pattern, text))\n"
   ]
  },
  {
   "cell_type": "code",
   "execution_count": 37,
   "metadata": {},
   "outputs": [],
   "source": [
    "def alphabet_war(fight):\n",
    "    #your code here\n",
    "    left_side = {\"w\":4,\"p\":3,\"b\":2,\"s\":1}\n",
    "    right_side = {\"m\":4,\"q\":3,\"d\":2,\"z\":1}\n",
    "  \n",
    "    l_score = 0\n",
    "    r_score = 0\n",
    "  \n",
    "    \n",
    "    \n",
    "    for letter in fight:\n",
    "        if letter in left_side:\n",
    "            l_score+= left_side.get(letter)\n",
    "        elif letter in right_side:\n",
    "            r_score+= right_side.get(letter)\n",
    "    print(l_score)\n",
    "\n",
    "    "
   ]
  }
 ],
 "metadata": {
  "kernelspec": {
   "display_name": "Python 3",
   "language": "python",
   "name": "python3"
  },
  "language_info": {
   "codemirror_mode": {
    "name": "ipython",
    "version": 3
   },
   "file_extension": ".py",
   "mimetype": "text/x-python",
   "name": "python",
   "nbconvert_exporter": "python",
   "pygments_lexer": "ipython3",
   "version": "3.6.7"
  }
 },
 "nbformat": 4,
 "nbformat_minor": 2
}
